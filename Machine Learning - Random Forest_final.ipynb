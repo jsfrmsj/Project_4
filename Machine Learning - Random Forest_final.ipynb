{
 "cells": [
  {
   "cell_type": "code",
   "execution_count": 1,
   "id": "b5ebc064",
   "metadata": {},
   "outputs": [],
   "source": [
    "# Initial imports\n",
    "import pandas as pd\n",
    "import psycopg2\n",
    "import sqlite3 as sql\n",
    "from pathlib import Path\n",
    "from sklearn.ensemble import RandomForestClassifier\n",
    "from sklearn.preprocessing import StandardScaler\n",
    "from sklearn.model_selection import train_test_split\n",
    "from sklearn.metrics import confusion_matrix, accuracy_score, classification_report\n",
    "import numpy as np\n",
    "%matplotlib inline"
   ]
  },
  {
   "cell_type": "code",
   "execution_count": 2,
   "id": "bf600e81",
   "metadata": {},
   "outputs": [],
   "source": [
    "con = psycopg2.connect(\n",
    "database=\"Sleep_Project\",\n",
    "user=\"postgres\",\n",
    "password=\"postgres\",\n",
    "host=\"localhost\",\n",
    "port= '5432'\n",
    ")"
   ]
  },
  {
   "cell_type": "code",
   "execution_count": 4,
   "id": "754fbcfe",
   "metadata": {},
   "outputs": [],
   "source": [
    "cursor_obj = con.cursor()\n",
    "cursor_obj.execute(\"SELECT * FROM sleep_project\")"
   ]
  },
  {
   "cell_type": "code",
   "execution_count": 5,
   "id": "2816c459",
   "metadata": {},
   "outputs": [],
   "source": [
    "sleep_df= pd.DataFrame(cursor_obj.fetchall(),columns = [\"Sleep duration\",\"Caffeine consumption\",\"Alcohol consumption\",\"Exercise frequency\",\"Female\",\"Male\",\"Late Bedtime\",\"Normal Bedtime\",\"Really Late Bedtime\",\"Non-Smoker\",\"Smoker\",\"Early Wakeup\",\"Late Wakeup\",\"Normal Wakeup\",\"Very Early Wakeup\",\"Efficient\"])"
   ]
  },
  {
   "cell_type": "code",
   "execution_count": 7,
   "id": "7772ea64",
   "metadata": {},
   "outputs": [
    {
     "data": {
      "text/html": [
       "<div>\n",
       "<style scoped>\n",
       "    .dataframe tbody tr th:only-of-type {\n",
       "        vertical-align: middle;\n",
       "    }\n",
       "\n",
       "    .dataframe tbody tr th {\n",
       "        vertical-align: top;\n",
       "    }\n",
       "\n",
       "    .dataframe thead th {\n",
       "        text-align: right;\n",
       "    }\n",
       "</style>\n",
       "<table border=\"1\" class=\"dataframe\">\n",
       "  <thead>\n",
       "    <tr style=\"text-align: right;\">\n",
       "      <th></th>\n",
       "      <th>Sleep duration</th>\n",
       "      <th>Caffeine consumption</th>\n",
       "      <th>Alcohol consumption</th>\n",
       "      <th>Exercise frequency</th>\n",
       "      <th>Female</th>\n",
       "      <th>Male</th>\n",
       "      <th>Late Bedtime</th>\n",
       "      <th>Normal Bedtime</th>\n",
       "      <th>Really Late Bedtime</th>\n",
       "      <th>Non-Smoker</th>\n",
       "      <th>Smoker</th>\n",
       "      <th>Early Wakeup</th>\n",
       "      <th>Late Wakeup</th>\n",
       "      <th>Normal Wakeup</th>\n",
       "      <th>Very Early Wakeup</th>\n",
       "      <th>Efficient</th>\n",
       "    </tr>\n",
       "  </thead>\n",
       "  <tbody>\n",
       "    <tr>\n",
       "      <th>0</th>\n",
       "      <td>7.5</td>\n",
       "      <td>50</td>\n",
       "      <td>0</td>\n",
       "      <td>1</td>\n",
       "      <td>1</td>\n",
       "      <td>0</td>\n",
       "      <td>0</td>\n",
       "      <td>0</td>\n",
       "      <td>1</td>\n",
       "      <td>1</td>\n",
       "      <td>0</td>\n",
       "      <td>1</td>\n",
       "      <td>0</td>\n",
       "      <td>0</td>\n",
       "      <td>0</td>\n",
       "      <td>1</td>\n",
       "    </tr>\n",
       "    <tr>\n",
       "      <th>1</th>\n",
       "      <td>5.5</td>\n",
       "      <td>0</td>\n",
       "      <td>0</td>\n",
       "      <td>0</td>\n",
       "      <td>0</td>\n",
       "      <td>1</td>\n",
       "      <td>0</td>\n",
       "      <td>0</td>\n",
       "      <td>1</td>\n",
       "      <td>1</td>\n",
       "      <td>0</td>\n",
       "      <td>0</td>\n",
       "      <td>0</td>\n",
       "      <td>1</td>\n",
       "      <td>0</td>\n",
       "      <td>0</td>\n",
       "    </tr>\n",
       "    <tr>\n",
       "      <th>2</th>\n",
       "      <td>7.0</td>\n",
       "      <td>0</td>\n",
       "      <td>5</td>\n",
       "      <td>2</td>\n",
       "      <td>1</td>\n",
       "      <td>0</td>\n",
       "      <td>0</td>\n",
       "      <td>0</td>\n",
       "      <td>1</td>\n",
       "      <td>0</td>\n",
       "      <td>1</td>\n",
       "      <td>0</td>\n",
       "      <td>0</td>\n",
       "      <td>1</td>\n",
       "      <td>0</td>\n",
       "      <td>1</td>\n",
       "    </tr>\n",
       "    <tr>\n",
       "      <th>3</th>\n",
       "      <td>8.0</td>\n",
       "      <td>0</td>\n",
       "      <td>0</td>\n",
       "      <td>3</td>\n",
       "      <td>0</td>\n",
       "      <td>1</td>\n",
       "      <td>0</td>\n",
       "      <td>0</td>\n",
       "      <td>1</td>\n",
       "      <td>0</td>\n",
       "      <td>1</td>\n",
       "      <td>0</td>\n",
       "      <td>0</td>\n",
       "      <td>1</td>\n",
       "      <td>0</td>\n",
       "      <td>0</td>\n",
       "    </tr>\n",
       "    <tr>\n",
       "      <th>4</th>\n",
       "      <td>9.0</td>\n",
       "      <td>75</td>\n",
       "      <td>0</td>\n",
       "      <td>2</td>\n",
       "      <td>1</td>\n",
       "      <td>0</td>\n",
       "      <td>0</td>\n",
       "      <td>1</td>\n",
       "      <td>0</td>\n",
       "      <td>0</td>\n",
       "      <td>1</td>\n",
       "      <td>0</td>\n",
       "      <td>0</td>\n",
       "      <td>0</td>\n",
       "      <td>1</td>\n",
       "      <td>1</td>\n",
       "    </tr>\n",
       "  </tbody>\n",
       "</table>\n",
       "</div>"
      ],
      "text/plain": [
       "  Sleep duration  Caffeine consumption  Alcohol consumption  \\\n",
       "0            7.5                    50                    0   \n",
       "1            5.5                     0                    0   \n",
       "2            7.0                     0                    5   \n",
       "3            8.0                     0                    0   \n",
       "4            9.0                    75                    0   \n",
       "\n",
       "   Exercise frequency  Female  Male  Late Bedtime  Normal Bedtime  \\\n",
       "0                   1       1     0             0               0   \n",
       "1                   0       0     1             0               0   \n",
       "2                   2       1     0             0               0   \n",
       "3                   3       0     1             0               0   \n",
       "4                   2       1     0             0               1   \n",
       "\n",
       "   Really Late Bedtime  Non-Smoker  Smoker  Early Wakeup  Late Wakeup  \\\n",
       "0                    1           1       0             1            0   \n",
       "1                    1           1       0             0            0   \n",
       "2                    1           0       1             0            0   \n",
       "3                    1           0       1             0            0   \n",
       "4                    0           0       1             0            0   \n",
       "\n",
       "   Normal Wakeup  Very Early Wakeup  Efficient  \n",
       "0              0                  0          1  \n",
       "1              1                  0          0  \n",
       "2              1                  0          1  \n",
       "3              1                  0          0  \n",
       "4              0                  1          1  "
      ]
     },
     "execution_count": 7,
     "metadata": {},
     "output_type": "execute_result"
    }
   ],
   "source": [
    "sleep_df.head()"
   ]
  },
  {
   "cell_type": "code",
   "execution_count": 9,
   "id": "a03c78c4",
   "metadata": {},
   "outputs": [
    {
     "data": {
      "text/html": [
       "<div>\n",
       "<style scoped>\n",
       "    .dataframe tbody tr th:only-of-type {\n",
       "        vertical-align: middle;\n",
       "    }\n",
       "\n",
       "    .dataframe tbody tr th {\n",
       "        vertical-align: top;\n",
       "    }\n",
       "\n",
       "    .dataframe thead th {\n",
       "        text-align: right;\n",
       "    }\n",
       "</style>\n",
       "<table border=\"1\" class=\"dataframe\">\n",
       "  <thead>\n",
       "    <tr style=\"text-align: right;\">\n",
       "      <th></th>\n",
       "      <th>Sleep duration</th>\n",
       "      <th>Caffeine consumption</th>\n",
       "      <th>Alcohol consumption</th>\n",
       "      <th>Exercise frequency</th>\n",
       "      <th>Female</th>\n",
       "      <th>Male</th>\n",
       "      <th>Late Bedtime</th>\n",
       "      <th>Normal Bedtime</th>\n",
       "      <th>Really Late Bedtime</th>\n",
       "      <th>Non-Smoker</th>\n",
       "      <th>Smoker</th>\n",
       "      <th>Early Wakeup</th>\n",
       "      <th>Late Wakeup</th>\n",
       "      <th>Normal Wakeup</th>\n",
       "      <th>Very Early Wakeup</th>\n",
       "    </tr>\n",
       "  </thead>\n",
       "  <tbody>\n",
       "    <tr>\n",
       "      <th>0</th>\n",
       "      <td>7.5</td>\n",
       "      <td>50</td>\n",
       "      <td>0</td>\n",
       "      <td>1</td>\n",
       "      <td>1</td>\n",
       "      <td>0</td>\n",
       "      <td>0</td>\n",
       "      <td>0</td>\n",
       "      <td>1</td>\n",
       "      <td>1</td>\n",
       "      <td>0</td>\n",
       "      <td>1</td>\n",
       "      <td>0</td>\n",
       "      <td>0</td>\n",
       "      <td>0</td>\n",
       "    </tr>\n",
       "    <tr>\n",
       "      <th>1</th>\n",
       "      <td>5.5</td>\n",
       "      <td>0</td>\n",
       "      <td>0</td>\n",
       "      <td>0</td>\n",
       "      <td>0</td>\n",
       "      <td>1</td>\n",
       "      <td>0</td>\n",
       "      <td>0</td>\n",
       "      <td>1</td>\n",
       "      <td>1</td>\n",
       "      <td>0</td>\n",
       "      <td>0</td>\n",
       "      <td>0</td>\n",
       "      <td>1</td>\n",
       "      <td>0</td>\n",
       "    </tr>\n",
       "    <tr>\n",
       "      <th>2</th>\n",
       "      <td>7.0</td>\n",
       "      <td>0</td>\n",
       "      <td>5</td>\n",
       "      <td>2</td>\n",
       "      <td>1</td>\n",
       "      <td>0</td>\n",
       "      <td>0</td>\n",
       "      <td>0</td>\n",
       "      <td>1</td>\n",
       "      <td>0</td>\n",
       "      <td>1</td>\n",
       "      <td>0</td>\n",
       "      <td>0</td>\n",
       "      <td>1</td>\n",
       "      <td>0</td>\n",
       "    </tr>\n",
       "    <tr>\n",
       "      <th>3</th>\n",
       "      <td>8.0</td>\n",
       "      <td>0</td>\n",
       "      <td>0</td>\n",
       "      <td>3</td>\n",
       "      <td>0</td>\n",
       "      <td>1</td>\n",
       "      <td>0</td>\n",
       "      <td>0</td>\n",
       "      <td>1</td>\n",
       "      <td>0</td>\n",
       "      <td>1</td>\n",
       "      <td>0</td>\n",
       "      <td>0</td>\n",
       "      <td>1</td>\n",
       "      <td>0</td>\n",
       "    </tr>\n",
       "    <tr>\n",
       "      <th>4</th>\n",
       "      <td>9.0</td>\n",
       "      <td>75</td>\n",
       "      <td>0</td>\n",
       "      <td>2</td>\n",
       "      <td>1</td>\n",
       "      <td>0</td>\n",
       "      <td>0</td>\n",
       "      <td>1</td>\n",
       "      <td>0</td>\n",
       "      <td>0</td>\n",
       "      <td>1</td>\n",
       "      <td>0</td>\n",
       "      <td>0</td>\n",
       "      <td>0</td>\n",
       "      <td>1</td>\n",
       "    </tr>\n",
       "  </tbody>\n",
       "</table>\n",
       "</div>"
      ],
      "text/plain": [
       "  Sleep duration  Caffeine consumption  Alcohol consumption  \\\n",
       "0            7.5                    50                    0   \n",
       "1            5.5                     0                    0   \n",
       "2            7.0                     0                    5   \n",
       "3            8.0                     0                    0   \n",
       "4            9.0                    75                    0   \n",
       "\n",
       "   Exercise frequency  Female  Male  Late Bedtime  Normal Bedtime  \\\n",
       "0                   1       1     0             0               0   \n",
       "1                   0       0     1             0               0   \n",
       "2                   2       1     0             0               0   \n",
       "3                   3       0     1             0               0   \n",
       "4                   2       1     0             0               1   \n",
       "\n",
       "   Really Late Bedtime  Non-Smoker  Smoker  Early Wakeup  Late Wakeup  \\\n",
       "0                    1           1       0             1            0   \n",
       "1                    1           1       0             0            0   \n",
       "2                    1           0       1             0            0   \n",
       "3                    1           0       1             0            0   \n",
       "4                    0           0       1             0            0   \n",
       "\n",
       "   Normal Wakeup  Very Early Wakeup  \n",
       "0              0                  0  \n",
       "1              1                  0  \n",
       "2              1                  0  \n",
       "3              1                  0  \n",
       "4              0                  1  "
      ]
     },
     "execution_count": 9,
     "metadata": {},
     "output_type": "execute_result"
    }
   ],
   "source": [
    "# Define features set\n",
    "X = sleep_df.copy()\n",
    "X.drop(\"Efficient\", axis=1, inplace=True)\n",
    "X.head()"
   ]
  },
  {
   "cell_type": "code",
   "execution_count": 10,
   "id": "87e25c17",
   "metadata": {},
   "outputs": [
    {
     "data": {
      "text/plain": [
       "array([1, 0, 1, 0, 1])"
      ]
     },
     "execution_count": 10,
     "metadata": {},
     "output_type": "execute_result"
    }
   ],
   "source": [
    "# Define target vector\n",
    "y = sleep_df[\"Efficient\"].ravel()\n",
    "y[:5]"
   ]
  },
  {
   "cell_type": "code",
   "execution_count": 11,
   "id": "eaaa72d8",
   "metadata": {},
   "outputs": [],
   "source": [
    "# Splitting into Train and Test sets\n",
    "X_train, X_test, y_train, y_test = train_test_split(X, y, random_state=1)"
   ]
  },
  {
   "cell_type": "code",
   "execution_count": 12,
   "id": "29f51305",
   "metadata": {},
   "outputs": [],
   "source": [
    "# Creating StandardScaler instance\n",
    "scaler = StandardScaler()\n",
    "\n",
    "# Fitting Standard Scaller\n",
    "X_scaler = scaler.fit(X_train)\n",
    "\n",
    "# Scaling data\n",
    "X_train_scaled = X_scaler.transform(X_train)\n",
    "X_test_scaled = X_scaler.transform(X_test)"
   ]
  },
  {
   "cell_type": "code",
   "execution_count": 13,
   "id": "a5a57a60",
   "metadata": {},
   "outputs": [],
   "source": [
    "# Create a random forest classifier\n",
    "rf_model = RandomForestClassifier(n_estimators=500, class_weight={0:1, 1:3}, random_state=72)"
   ]
  },
  {
   "cell_type": "code",
   "execution_count": 14,
   "id": "c877864d",
   "metadata": {},
   "outputs": [],
   "source": [
    "# Fitting the model\n",
    "rf_model = rf_model.fit(X_train_scaled, y_train)"
   ]
  },
  {
   "cell_type": "code",
   "execution_count": 15,
   "id": "6cb59a82",
   "metadata": {},
   "outputs": [],
   "source": [
    "# Making predictions using the testing data\n",
    "predictions = rf_model.predict(X_test_scaled)"
   ]
  },
  {
   "cell_type": "code",
   "execution_count": 16,
   "id": "b72def8c",
   "metadata": {},
   "outputs": [],
   "source": [
    "# Calculating the confusion matrix\n",
    "cm = confusion_matrix(y_test, predictions)\n",
    "cm_df = pd.DataFrame(\n",
    "    cm, index=[\"Actual 0\", \"Actual 1\"], columns=[\"Predicted 0\", \"Predicted 1\"]\n",
    ")\n",
    "\n",
    "# Calculating the accuracy score\n",
    "acc_score = accuracy_score(y_test, predictions)"
   ]
  },
  {
   "cell_type": "code",
   "execution_count": 22,
   "id": "7cb75b7e",
   "metadata": {},
   "outputs": [
    {
     "name": "stdout",
     "output_type": "stream",
     "text": [
      "Confusion Matrix\n"
     ]
    },
    {
     "data": {
      "text/html": [
       "<div>\n",
       "<style scoped>\n",
       "    .dataframe tbody tr th:only-of-type {\n",
       "        vertical-align: middle;\n",
       "    }\n",
       "\n",
       "    .dataframe tbody tr th {\n",
       "        vertical-align: top;\n",
       "    }\n",
       "\n",
       "    .dataframe thead th {\n",
       "        text-align: right;\n",
       "    }\n",
       "</style>\n",
       "<table border=\"1\" class=\"dataframe\">\n",
       "  <thead>\n",
       "    <tr style=\"text-align: right;\">\n",
       "      <th></th>\n",
       "      <th>Predicted 0</th>\n",
       "      <th>Predicted 1</th>\n",
       "    </tr>\n",
       "  </thead>\n",
       "  <tbody>\n",
       "    <tr>\n",
       "      <th>Actual 0</th>\n",
       "      <td>20</td>\n",
       "      <td>12</td>\n",
       "    </tr>\n",
       "    <tr>\n",
       "      <th>Actual 1</th>\n",
       "      <td>5</td>\n",
       "      <td>62</td>\n",
       "    </tr>\n",
       "  </tbody>\n",
       "</table>\n",
       "</div>"
      ],
      "text/plain": [
       "          Predicted 0  Predicted 1\n",
       "Actual 0           20           12\n",
       "Actual 1            5           62"
      ]
     },
     "metadata": {},
     "output_type": "display_data"
    },
    {
     "name": "stdout",
     "output_type": "stream",
     "text": [
      "Accuracy Score : 0.8282828282828283\n",
      "Classification Report\n",
      "              precision    recall  f1-score   support\n",
      "\n",
      "           0       0.80      0.62      0.70        32\n",
      "           1       0.84      0.93      0.88        67\n",
      "\n",
      "    accuracy                           0.83        99\n",
      "   macro avg       0.82      0.78      0.79        99\n",
      "weighted avg       0.83      0.83      0.82        99\n",
      "\n"
     ]
    }
   ],
   "source": [
    " # Displaying results\n",
    "print(\"Confusion Matrix\")\n",
    "display(cm_df)\n",
    "print(f\"Accuracy Score : {acc_score}\")\n",
    "print(\"Classification Report\")\n",
    "print(classification_report(y_test, predictions))"
   ]
  },
  {
   "cell_type": "code",
   "execution_count": 17,
   "id": "8080f26b",
   "metadata": {},
   "outputs": [
    {
     "name": "stdout",
     "output_type": "stream",
     "text": [
      "How many hours do you plan to sleep tonight (1-10) : 8\n",
      "Enter how many cups of coffee and or soda you have had today: 3\n",
      "Enter how many drinks of alcohol you've had today. : 2\n",
      "Enter how many times a week you excercise. : 4\n",
      "Are you Male or Female? : Male\n",
      "What time will you be going to sleep? Normal(9-1030pm) Late(11pm-1230am) Really Late(1-2:30am)? : Late\n",
      "Are you a Smoker? Yes or No? : No\n",
      "What time are you planning on waking up? Very Early(3-5am) Early(5-8am) Normal(8-11am) Late(11am-1pm)? : Early\n",
      "[8, 75, 2, 4, 1, 0, 0, 1, 0, 0, 1, 1, 0, 0, 0]\n"
     ]
    }
   ],
   "source": [
    "answers = []\n",
    "\n",
    "while True:\n",
    "    \n",
    "    z = int(input(\"How many hours do you plan to sleep tonight (1-10) : \"))\n",
    "    answers.append(z)\n",
    "\n",
    "    a = int(input(\"Enter how many cups of coffee and or soda you have had today: \"))\n",
    "    answers.append(a*25)\n",
    "    \n",
    "    b = int(input(\"Enter how many drinks of alcohol you've had today. : \"))\n",
    "    answers.append(b)\n",
    "    \n",
    "    c = int(input(\"Enter how many times a week you excercise. : \"))\n",
    "    answers.append(c)\n",
    "    \n",
    "    d = input(\"Are you Male or Female? : \")\n",
    "    if d == \"Male\" or \"male\":\n",
    "        answers.append(1)\n",
    "        answers.append(0)\n",
    "    else:\n",
    "        answers.append(0)\n",
    "        answers.append(1)\n",
    "\n",
    "    \n",
    "    f = input(\"What time will you be going to sleep? Normal(9-1030pm) Late(11pm-1230am) Really Late(1-2:30am)? : \")\n",
    "\n",
    "    if f == \"Normal\" or \"normal\":\n",
    "        answers.append(0)\n",
    "        answers.append(1)\n",
    "        answers.append(0)\n",
    "    elif f == \"Late\" or (\"late\"):\n",
    "        answers.append(1)\n",
    "        answers.append(0)\n",
    "        answers.append(0)\n",
    "    else:\n",
    "        answers.append(0)\n",
    "        answers.append(0)\n",
    "        answers.append(1)\n",
    "        \n",
    "    \n",
    "    i = input(\"Are you a Smoker? Yes or No? : \")\n",
    "    if i == \"yes\" or \"Yes\":\n",
    "        answers.append(0)\n",
    "        answers.append(1)\n",
    "    else:\n",
    "        answers.append(1)\n",
    "        answers.append(0)\n",
    "        \n",
    "    \n",
    "    k = input(\"What time are you planning on waking up? Very Early(3-5am) Early(5-8am) Normal(8-11am) Late(11am-1pm)? : \")\n",
    "    if k == \"Early\" or \"early\":\n",
    "        answers.append(1)\n",
    "        answers.append(0)\n",
    "        answers.append(0)\n",
    "        answers.append(0)\n",
    "        \n",
    "    elif k == \"Normal\" or (\"normal\"):\n",
    "        answers.append(0)\n",
    "        answers.append(0)\n",
    "        answers.append(1)\n",
    "        answers.append(0)\n",
    "    \n",
    "    elif k == \"Late\" or (\"late\"):\n",
    "        answers.append(0)\n",
    "        answers.append(1)\n",
    "        answers.append(0)\n",
    "        answers.append(0)\n",
    "        \n",
    "    else:\n",
    "        answers.append(0)\n",
    "        answers.append(0)\n",
    "        answers.append(0)\n",
    "        answers.append(1)\n",
    "\n",
    "    break\n",
    " \n",
    "print(answers)"
   ]
  },
  {
   "cell_type": "code",
   "execution_count": 18,
   "id": "71f7c1fa",
   "metadata": {},
   "outputs": [
    {
     "name": "stdout",
     "output_type": "stream",
     "text": [
      "[[ 8 75  2  4  1  0  0  1  0  0  1  1  0  0  0]]\n"
     ]
    }
   ],
   "source": [
    "import numpy as np\n",
    "arr = np.array(answers)\n",
    "\n",
    "arr1 = arr.reshape(1, -1)\n",
    "\n",
    "print(arr1)"
   ]
  },
  {
   "cell_type": "code",
   "execution_count": 19,
   "id": "0e422107",
   "metadata": {},
   "outputs": [
    {
     "name": "stdout",
     "output_type": "stream",
     "text": [
      "Inefficient\n"
     ]
    }
   ],
   "source": [
    "#features = np.array([[25, 5, 0, 0, 1, 0, 0, 1, 1, 0, 0, 1, 0, 0]])\n",
    "features = arr1\n",
    "# using inputs to predict the output\n",
    "prediction = rf_model.predict(features)\n",
    "\n",
    "if prediction == 0:\n",
    "    print(\"Inefficient\")\n",
    "else: \n",
    "    print(\"Efficient\")\n",
    "    \n",
    "#print(\"Prediction: {}\".format(prediction))"
   ]
  },
  {
   "cell_type": "code",
   "execution_count": 20,
   "id": "eabf0f89",
   "metadata": {},
   "outputs": [
    {
     "data": {
      "text/plain": [
       "[(0.2962056742186714, 'Alcohol consumption'),\n",
       " (0.17155738691724104, 'Sleep duration'),\n",
       " (0.15341875788664794, 'Exercise frequency'),\n",
       " (0.08439122989684487, 'Caffeine consumption'),\n",
       " (0.0381252852016979, 'Smoker'),\n",
       " (0.03659638043414833, 'Non-Smoker'),\n",
       " (0.031299655674090196, 'Early Wakeup'),\n",
       " (0.030577045630854394, 'Late Bedtime'),\n",
       " (0.028689604061421622, 'Male'),\n",
       " (0.027098736589003573, 'Normal Wakeup'),\n",
       " (0.026608271987688677, 'Really Late Bedtime'),\n",
       " (0.025613246180847815, 'Female'),\n",
       " (0.02219732132144821, 'Very Early Wakeup'),\n",
       " (0.021605915755216122, 'Normal Bedtime'),\n",
       " (0.006015488244177952, 'Late Wakeup')]"
      ]
     },
     "execution_count": 20,
     "metadata": {},
     "output_type": "execute_result"
    }
   ],
   "source": [
    "# Random Forests in sklearn will automatically calculate feature importance\n",
    "importances = rf_model.feature_importances_\n",
    "# We can sort the features by their importance\n",
    "sorted(zip(rf_model.feature_importances_, X.columns), reverse=True)"
   ]
  },
  {
   "cell_type": "code",
   "execution_count": 21,
   "id": "9dec671c",
   "metadata": {},
   "outputs": [
    {
     "data": {
      "text/plain": [
       "<Axes: title={'center': 'Features Importances'}, ylabel='1'>"
      ]
     },
     "execution_count": 21,
     "metadata": {},
     "output_type": "execute_result"
    },
    {
     "data": {
      "image/png": "[encoded data removed]",
      "text/plain": [
       "<Figure size 640x480 with 1 Axes>"
      ]
     },
     "metadata": {},
     "output_type": "display_data"
    }
   ],
   "source": [
    " # Visualize the features by importance\n",
    "importances_df = pd.DataFrame(sorted(zip(rf_model.feature_importances_, X.columns), reverse=True))\n",
    "importances_df.set_index(importances_df[1], inplace=True)\n",
    "importances_df.drop(columns=1, inplace=True)\n",
    "importances_df.rename(columns={0: 'Feature Importances'}, inplace=True)\n",
    "importances_sorted = importances_df.sort_values(by='Feature Importances')\n",
    "importances_sorted.plot(kind='barh', color='lightgreen', title= 'Features Importances', legend=False)"
   ]
  },
  {
   "cell_type": "code",
   "execution_count": null,
   "id": "0c84bf36",
   "metadata": {},
   "outputs": [],
   "source": []
  }
 ],
 "metadata": {
  "kernelspec": {
   "display_name": "Python 3 (ipykernel)",
   "language": "python",
   "name": "python3"
  },
  "language_info": {
   "codemirror_mode": {
    "name": "ipython",
    "version": 3
   },
   "file_extension": ".py",
   "mimetype": "text/x-python",
   "name": "python",
   "nbconvert_exporter": "python",
   "pygments_lexer": "ipython3",
   "version": "3.11.3"
  }
 },
 "nbformat": 4,
 "nbformat_minor": 5
}
